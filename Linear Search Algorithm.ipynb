{
 "cells": [
  {
   "cell_type": "code",
   "execution_count": 7,
   "metadata": {},
   "outputs": [
    {
     "name": "stdout",
     "output_type": "stream",
     "text": [
      "10 is a Found in a list\n"
     ]
    }
   ],
   "source": [
    "def linearSearch(num,key):         #create function \n",
    "    for i in range(len(num)):      #array no. of element check\n",
    "        if key == num[i]:          #key equal num condition\n",
    "            return True            #condition true print\n",
    "    return False                   #condition false\n",
    "\n",
    "num = [10,9,7,4,5,6,3,2,1,12,11,15]  #list\n",
    "key = 10                              #find the no list or not\n",
    "\n",
    "\n",
    "\n",
    "if linearSearch(num,key):          #value present or not check list \n",
    "    print(key,\"is a Found in a list\") #value present \n",
    "else:                                 #or\n",
    "    print(\"Not Found in a list\")     #value not present"
   ]
  },
  {
   "cell_type": "code",
   "execution_count": 13,
   "metadata": {},
   "outputs": [
    {
     "name": "stdout",
     "output_type": "stream",
     "text": [
      "('Found at ', 7, 'index position')\n"
     ]
    }
   ],
   "source": [
    "def linearSearch(num,key):         #create function \n",
    "    for i in range(len(num)):      #array no. of element check\n",
    "        if key == num[i]:       \n",
    "            return 'Found at ', i,'index position'   \n",
    "    return \"Not Found \"                   \n",
    "\n",
    "num = [10,9,7,4,5,6,3,2,1,12,11,15]  #list\n",
    "key = 2                         #find the no list or not\n",
    "print(linearSearch(num,key))"
   ]
  },
  {
   "cell_type": "code",
   "execution_count": null,
   "metadata": {},
   "outputs": [],
   "source": []
  }
 ],
 "metadata": {
  "kernelspec": {
   "display_name": "Python 3",
   "language": "python",
   "name": "python3"
  },
  "language_info": {
   "codemirror_mode": {
    "name": "ipython",
    "version": 3
   },
   "file_extension": ".py",
   "mimetype": "text/x-python",
   "name": "python",
   "nbconvert_exporter": "python",
   "pygments_lexer": "ipython3",
   "version": "3.7.6"
  }
 },
 "nbformat": 4,
 "nbformat_minor": 4
}
