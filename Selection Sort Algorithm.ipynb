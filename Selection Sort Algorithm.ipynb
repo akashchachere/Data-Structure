{
 "cells": [
  {
   "cell_type": "code",
   "execution_count": 2,
   "metadata": {},
   "outputs": [
    {
     "name": "stdout",
     "output_type": "stream",
     "text": [
      "[1, 2, 3, 4, 5]\n"
     ]
    }
   ],
   "source": [
    "def selectionSort(s):              #function create\n",
    "    for i in range(len(s)):        #array len find out\n",
    "        cur_index = i              #select index [3]\n",
    "        for j in range(i,len(s)):   #array iterate [2,1,5,4]\n",
    "            if s[cur_index] > s[j]:  #check small element current index or right side array \n",
    "                cur_index = j       #codition true current index change \n",
    "        s[i],s[cur_index] = s[cur_index],s[i]  #swaping\n",
    "    return s                                   #sorted array return \n",
    "s = [3,2,1,5,4]\n",
    "print(selectionSort(s))"
   ]
  },
  {
   "cell_type": "code",
   "execution_count": null,
   "metadata": {},
   "outputs": [],
   "source": []
  }
 ],
 "metadata": {
  "kernelspec": {
   "display_name": "Python 3",
   "language": "python",
   "name": "python3"
  },
  "language_info": {
   "codemirror_mode": {
    "name": "ipython",
    "version": 3
   },
   "file_extension": ".py",
   "mimetype": "text/x-python",
   "name": "python",
   "nbconvert_exporter": "python",
   "pygments_lexer": "ipython3",
   "version": "3.7.6"
  }
 },
 "nbformat": 4,
 "nbformat_minor": 4
}
