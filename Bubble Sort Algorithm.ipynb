{
 "cells": [
  {
   "cell_type": "code",
   "execution_count": 3,
   "metadata": {},
   "outputs": [
    {
     "name": "stdout",
     "output_type": "stream",
     "text": [
      "[1, 2, 3, 4, 8]\n"
     ]
    }
   ],
   "source": [
    "def bubbleSort(a):                 #Create BubbleSort Function\n",
    "    for i in range(len(a)):         \n",
    "        for j in range(len(a)-i-1):\n",
    "            if a[j] > a[j+1]:        #swaping\n",
    "                a[j],a[j+1] = a[j+1],a[j]\n",
    "    return a\n",
    "l = [3,2,1,4,8]\n",
    "print(bubbleSort(l))"
   ]
  },
  {
   "cell_type": "code",
   "execution_count": null,
   "metadata": {},
   "outputs": [],
   "source": []
  }
 ],
 "metadata": {
  "kernelspec": {
   "display_name": "Python 3",
   "language": "python",
   "name": "python3"
  },
  "language_info": {
   "codemirror_mode": {
    "name": "ipython",
    "version": 3
   },
   "file_extension": ".py",
   "mimetype": "text/x-python",
   "name": "python",
   "nbconvert_exporter": "python",
   "pygments_lexer": "ipython3",
   "version": "3.7.6"
  }
 },
 "nbformat": 4,
 "nbformat_minor": 4
}
