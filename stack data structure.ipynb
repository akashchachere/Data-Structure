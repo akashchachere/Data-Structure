{
 "cells": [
  {
   "cell_type": "code",
   "execution_count": 2,
   "metadata": {},
   "outputs": [
    {
     "name": "stdout",
     "output_type": "stream",
     "text": [
      "[]\n"
     ]
    }
   ],
   "source": [
    "num = []      #empty stack create\n",
    "print(num)    #print stack"
   ]
  },
  {
   "cell_type": "code",
   "execution_count": 3,
   "metadata": {},
   "outputs": [
    {
     "name": "stdout",
     "output_type": "stream",
     "text": [
      "[1, 2, 3, 4]\n"
     ]
    }
   ],
   "source": [
    "num.append(1)    #push element \n",
    "num.append(2)\n",
    "num.append(3)\n",
    "num.append(4)\n",
    "print(num)"
   ]
  },
  {
   "cell_type": "code",
   "execution_count": 29,
   "metadata": {},
   "outputs": [
    {
     "name": "stdout",
     "output_type": "stream",
     "text": [
      "4\n",
      "[1, 2, 3]\n"
     ]
    }
   ],
   "source": [
    "print(num.pop())   #pop element\n",
    "print(num)"
   ]
  },
  {
   "cell_type": "code",
   "execution_count": 45,
   "metadata": {},
   "outputs": [
    {
     "name": "stdout",
     "output_type": "stream",
     "text": [
      "Stack is Empty\n",
      "[]\n"
     ]
    }
   ],
   "source": [
    "def push(num,n):\n",
    "    num.append(n)\n",
    "    return num\n",
    "def pop(num):\n",
    "    if isEmpty(num):\n",
    "        print(\"Stack is Empty\")\n",
    "        return False\n",
    "    else:\n",
    "        num.pop()\n",
    "        return num\n",
    "def isEmpty(num):\n",
    "    if not num:\n",
    "        return True\n",
    "    else:\n",
    "        return False\n",
    "num  = []\n",
    "push(num,1)  #[1]\n",
    "push(num,2)  #[1,2]\n",
    "push(num,3)  #[1,2,3]\n",
    "push(num,4)  #[1,2,3,4]\n",
    "push(num,5)  #[1,2,3,4,5]  #stack is LIFO (last in first pot)\n",
    "pop(num)  #[5]\n",
    "pop(num)  #[4]\n",
    "pop(num)   #[3]\n",
    "pop(num)   #[2]\n",
    "pop(num)   #[1]\n",
    "pop(num)    #[empty]\n",
    "print(num)"
   ]
  },
  {
   "cell_type": "code",
   "execution_count": null,
   "metadata": {},
   "outputs": [],
   "source": []
  }
 ],
 "metadata": {
  "kernelspec": {
   "display_name": "Python 3",
   "language": "python",
   "name": "python3"
  },
  "language_info": {
   "codemirror_mode": {
    "name": "ipython",
    "version": 3
   },
   "file_extension": ".py",
   "mimetype": "text/x-python",
   "name": "python",
   "nbconvert_exporter": "python",
   "pygments_lexer": "ipython3",
   "version": "3.7.6"
  }
 },
 "nbformat": 4,
 "nbformat_minor": 4
}
