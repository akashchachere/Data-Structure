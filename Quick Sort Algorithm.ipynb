{
 "cells": [
  {
   "cell_type": "code",
   "execution_count": 3,
   "metadata": {},
   "outputs": [
    {
     "name": "stdout",
     "output_type": "stream",
     "text": [
      "[9, 8, 7, 6, 5, 3, 2, 1]\n"
     ]
    }
   ],
   "source": [
    "def quickSort(a):            #create function\n",
    "    if len(a) <= 1:          #array check 1 element or multiple element suppose one in array or empty \n",
    "        return a             #array empty or one element return array\n",
    "    else:                   \n",
    "        pivot = a.pop()      #one element select\n",
    "    greater = []             #greater list create\n",
    "    lower = []               #lower list create\n",
    "    for i in a:               #loop \n",
    "        if i > pivot:           #pivot element are small or large\n",
    "            greater.append(i)   #condition true append greater list \n",
    "        else:\n",
    "            lower.append(i)     #condition false append lower list\n",
    "    return quickSort(greater) + [pivot] + quickSort(lower)   #return first greater list and pivot element and lower list\n",
    "\n",
    "l = [3,1,2,5,7,9,8,6]           \n",
    "print(quickSort(l))"
   ]
  },
  {
   "cell_type": "code",
   "execution_count": null,
   "metadata": {},
   "outputs": [],
   "source": []
  }
 ],
 "metadata": {
  "kernelspec": {
   "display_name": "Python 3",
   "language": "python",
   "name": "python3"
  },
  "language_info": {
   "codemirror_mode": {
    "name": "ipython",
    "version": 3
   },
   "file_extension": ".py",
   "mimetype": "text/x-python",
   "name": "python",
   "nbconvert_exporter": "python",
   "pygments_lexer": "ipython3",
   "version": "3.7.6"
  }
 },
 "nbformat": 4,
 "nbformat_minor": 4
}
