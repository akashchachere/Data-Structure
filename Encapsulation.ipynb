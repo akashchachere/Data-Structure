{
 "cells": [
  {
   "cell_type": "code",
   "execution_count": 3,
   "metadata": {},
   "outputs": [
    {
     "name": "stdout",
     "output_type": "stream",
     "text": [
      "Calling Protected member of base class :  2\n",
      "calling Modified protected member of outside class  3\n",
      "Accesing protected member of obj1  3\n",
      "Accesing protected member of outside class obj1  2\n"
     ]
    }
   ],
   "source": [
    "class Base:\n",
    "    def __init__(self):\n",
    "        self._a = 2  #protected member\n",
    "class Derived(Base):\n",
    "    def __init__(self):\n",
    "        Base.__init__(self)\n",
    "        print(\"Calling Protected member of base class : \",self._a)\n",
    "        self._a = 3   #modify the protected member\n",
    "        print(\"calling Modified protected member of outside class \",self._a)\n",
    "        \n",
    "obj1 = Derived()\n",
    "obj2 = Base()\n",
    "\n",
    "print(\"Accesing protected member of obj1 \",obj1._a)\n",
    "print(\"Accesing protected member of outside class obj1 \",obj2._a)\n"
   ]
  },
  {
   "cell_type": "code",
   "execution_count": 2,
   "metadata": {},
   "outputs": [],
   "source": [
    "class Base:\n",
    "    def __init__(self):\n",
    "        self.a = \"hello World\"\n",
    "        self__c = \"Hello World\"\n",
    "class Derived:\n",
    "    def __init__(Base):\n",
    "        pass\n",
    "        "
   ]
  },
  {
   "cell_type": "code",
   "execution_count": null,
   "metadata": {},
   "outputs": [],
   "source": []
  }
 ],
 "metadata": {
  "kernelspec": {
   "display_name": "Python 3",
   "language": "python",
   "name": "python3"
  },
  "language_info": {
   "codemirror_mode": {
    "name": "ipython",
    "version": 3
   },
   "file_extension": ".py",
   "mimetype": "text/x-python",
   "name": "python",
   "nbconvert_exporter": "python",
   "pygments_lexer": "ipython3",
   "version": "3.7.6"
  }
 },
 "nbformat": 4,
 "nbformat_minor": 4
}
