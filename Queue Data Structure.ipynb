{
 "cells": [
  {
   "cell_type": "code",
   "execution_count": 11,
   "metadata": {},
   "outputs": [
    {
     "name": "stdout",
     "output_type": "stream",
     "text": [
      "[]\n"
     ]
    }
   ],
   "source": [
    "num = []   #create Queue\n",
    "print(num)"
   ]
  },
  {
   "cell_type": "code",
   "execution_count": 20,
   "metadata": {},
   "outputs": [
    {
     "name": "stdout",
     "output_type": "stream",
     "text": [
      "[1, 2, 3, 4, 5]\n"
     ]
    }
   ],
   "source": [
    "num.append(1)  #Add element in Queue\n",
    "num.append(2)\n",
    "num.append(3)\n",
    "num.append(4)\n",
    "num.append(5)\n",
    "print(num)"
   ]
  },
  {
   "cell_type": "code",
   "execution_count": 21,
   "metadata": {},
   "outputs": [
    {
     "name": "stdout",
     "output_type": "stream",
     "text": [
      "remove element  1\n",
      "Queue [2, 3, 4, 5]\n",
      "remove element  2\n",
      "Queue [3, 4, 5]\n",
      "remove element  3\n",
      "Queue [4, 5]\n",
      "remove element  4\n",
      "Queue [5]\n",
      "remove element  5\n",
      "Queue []\n"
     ]
    }
   ],
   "source": [
    "print(\"remove element \",num.pop(0))   #remove element in Queue\n",
    "print(\"Queue\",num)\n",
    "print(\"remove element \",num.pop(0))\n",
    "print(\"Queue\",num)\n",
    "print(\"remove element \",num.pop(0))\n",
    "print(\"Queue\",num)\n",
    "print(\"remove element \",num.pop(0))\n",
    "print(\"Queue\",num)\n",
    "print(\"remove element \",num.pop(0))\n",
    "print(\"Queue\",num)"
   ]
  },
  {
   "cell_type": "code",
   "execution_count": 31,
   "metadata": {},
   "outputs": [
    {
     "name": "stdout",
     "output_type": "stream",
     "text": [
      "[]\n",
      "[1, 2, 3, 4]\n",
      "Empty Queue\n",
      "[]\n"
     ]
    }
   ],
   "source": [
    "def isEmpty(num):\n",
    "    if not num:\n",
    "        return False\n",
    "    else:\n",
    "        return True\n",
    "def enqueue(num,n):\n",
    "    num.append(n)\n",
    "    return num\n",
    "def dequeue(num):\n",
    "    if not num:\n",
    "        print(\"Empty Queue\")\n",
    "        return False\n",
    "    else:\n",
    "        num.pop(0)\n",
    "        return num\n",
    "num =  [] \n",
    "print(num)\n",
    "enqueue(num,1)\n",
    "enqueue(num,2)\n",
    "enqueue(num,3)\n",
    "enqueue(num,4)\n",
    "print(num)\n",
    "dequeue(num)  #Queue is FIFO (First In First Out)\n",
    "dequeue(num)\n",
    "dequeue(num)\n",
    "dequeue(num)\n",
    "dequeue(num)\n",
    "print(num)"
   ]
  },
  {
   "cell_type": "code",
   "execution_count": null,
   "metadata": {},
   "outputs": [],
   "source": []
  }
 ],
 "metadata": {
  "kernelspec": {
   "display_name": "Python 3",
   "language": "python",
   "name": "python3"
  },
  "language_info": {
   "codemirror_mode": {
    "name": "ipython",
    "version": 3
   },
   "file_extension": ".py",
   "mimetype": "text/x-python",
   "name": "python",
   "nbconvert_exporter": "python",
   "pygments_lexer": "ipython3",
   "version": "3.7.6"
  }
 },
 "nbformat": 4,
 "nbformat_minor": 4
}
